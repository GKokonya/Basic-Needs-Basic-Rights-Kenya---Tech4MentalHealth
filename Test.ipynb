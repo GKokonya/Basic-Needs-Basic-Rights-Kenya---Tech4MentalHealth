{
 "cells": [
  {
   "cell_type": "code",
   "execution_count": 9,
   "metadata": {
    "colab": {},
    "colab_type": "code",
    "executionInfo": {
     "elapsed": 1344,
     "status": "ok",
     "timestamp": 1593885416791,
     "user": {
      "displayName": "George Kokonya",
      "photoUrl": "https://lh3.googleusercontent.com/a-/AOh14GjaFvgZS4ocR0KSup2i-fk9qlCz2jUDaoCY5uuiLg=s64",
      "userId": "09686228575458206223"
     },
     "user_tz": -180
    },
    "id": "LfVdtHT3wnC-"
   },
   "outputs": [],
   "source": [
    "#import Libraries\n",
    "import pandas as pd\n",
    "import seaborn as sns\n",
    "import numpy as np\n",
    "import re"
   ]
  },
  {
   "cell_type": "code",
   "execution_count": 5,
   "metadata": {
    "colab": {},
    "colab_type": "code",
    "executionInfo": {
     "elapsed": 4118,
     "status": "ok",
     "timestamp": 1593884151022,
     "user": {
      "displayName": "George Kokonya",
      "photoUrl": "https://lh3.googleusercontent.com/a-/AOh14GjaFvgZS4ocR0KSup2i-fk9qlCz2jUDaoCY5uuiLg=s64",
      "userId": "09686228575458206223"
     },
     "user_tz": -180
    },
    "id": "d6Q-USbwwrvd"
   },
   "outputs": [],
   "source": [
    "#Load Datasets\n",
    "train=pd.read_csv('DataSets/Train.csv')\n",
    "test=pd.read_csv('DataSets/Test.csv')\n",
    "sub=pd.read_csv('DataSets/SampleSubmission.csv')"
   ]
  },
  {
   "cell_type": "code",
   "execution_count": 6,
   "metadata": {
    "colab": {
     "base_uri": "https://localhost:8080/",
     "height": 104
    },
    "colab_type": "code",
    "executionInfo": {
     "elapsed": 5034,
     "status": "ok",
     "timestamp": 1593884152003,
     "user": {
      "displayName": "George Kokonya",
      "photoUrl": "https://lh3.googleusercontent.com/a-/AOh14GjaFvgZS4ocR0KSup2i-fk9qlCz2jUDaoCY5uuiLg=s64",
      "userId": "09686228575458206223"
     },
     "user_tz": -180
    },
    "id": "OpG8en_h0Q2I",
    "outputId": "75e2aaa1-47d7-48ec-a04b-8ac94b3df7ae"
   },
   "outputs": [
    {
     "name": "stderr",
     "output_type": "stream",
     "text": [
      "[nltk_data] Downloading package stopwords to /home/pc1/nltk_data...\n",
      "[nltk_data]   Package stopwords is already up-to-date!\n",
      "[nltk_data] Downloading package wordnet to /home/pc1/nltk_data...\n",
      "[nltk_data]   Package wordnet is already up-to-date!\n"
     ]
    },
    {
     "data": {
      "text/plain": [
       "True"
      ]
     },
     "execution_count": 6,
     "metadata": {},
     "output_type": "execute_result"
    }
   ],
   "source": [
    "#import  nltk\n",
    "import nltk\n",
    "nltk.download('stopwords')\n",
    "nltk.download('wordnet')"
   ]
  },
  {
   "cell_type": "markdown",
   "metadata": {
    "colab_type": "text",
    "id": "j2Q11pmxAqZ0"
   },
   "source": [
    "# Data Preprocessing"
   ]
  },
  {
   "cell_type": "code",
   "execution_count": 10,
   "metadata": {
    "colab": {},
    "colab_type": "code",
    "executionInfo": {
     "elapsed": 7401,
     "status": "ok",
     "timestamp": 1593884154392,
     "user": {
      "displayName": "George Kokonya",
      "photoUrl": "https://lh3.googleusercontent.com/a-/AOh14GjaFvgZS4ocR0KSup2i-fk9qlCz2jUDaoCY5uuiLg=s64",
      "userId": "09686228575458206223"
     },
     "user_tz": -180
    },
    "id": "3PiTdkk0y2sd"
   },
   "outputs": [],
   "source": [
    "from nltk.corpus import stopwords\n",
    "from nltk.stem import WordNetLemmatizer\n",
    "lemmatizer = WordNetLemmatizer()\n",
    "\n",
    "corpus = []\n",
    "for i in range(0, len(train)):\n",
    "    review = re.sub('[^a-zA-Z]', ' ', train['text'][i])#only output letter from a to z\n",
    "    review = review.lower()#convert words to lower case\n",
    "    review = review.split()#put words into a list \n",
    "    \n",
    "    review = [lemmatizer.lemmatize(word) for word in review if not word in stopwords.words('english')]\n",
    "    review = ' '.join(review)\n",
    "    corpus.append(review)"
   ]
  },
  {
   "cell_type": "code",
   "execution_count": 11,
   "metadata": {
    "colab": {},
    "colab_type": "code",
    "executionInfo": {
     "elapsed": 7375,
     "status": "ok",
     "timestamp": 1593884154401,
     "user": {
      "displayName": "George Kokonya",
      "photoUrl": "https://lh3.googleusercontent.com/a-/AOh14GjaFvgZS4ocR0KSup2i-fk9qlCz2jUDaoCY5uuiLg=s64",
      "userId": "09686228575458206223"
     },
     "user_tz": -180
    },
    "id": "qZ3ZpnlN0Oru"
   },
   "outputs": [],
   "source": [
    "# Creating the Bag of Words model\n",
    "from sklearn.feature_extraction.text import CountVectorizer\n",
    "cv = CountVectorizer(max_features=2500)"
   ]
  },
  {
   "cell_type": "code",
   "execution_count": 12,
   "metadata": {
    "colab": {},
    "colab_type": "code",
    "id": "cQUitK1vAT7Y"
   },
   "outputs": [],
   "source": [
    "#Change  target variable to numerical values\n",
    "train[\"label\"] = train[\"label\"].replace([\"Depression\",\"Alcohol\",\"Suicide\", \"Drugs\"], [0, 1, 2,3])"
   ]
  },
  {
   "cell_type": "code",
   "execution_count": 14,
   "metadata": {
    "colab": {},
    "colab_type": "code",
    "executionInfo": {
     "elapsed": 7362,
     "status": "ok",
     "timestamp": 1593884154404,
     "user": {
      "displayName": "George Kokonya",
      "photoUrl": "https://lh3.googleusercontent.com/a-/AOh14GjaFvgZS4ocR0KSup2i-fk9qlCz2jUDaoCY5uuiLg=s64",
      "userId": "09686228575458206223"
     },
     "user_tz": -180
    },
    "id": "8UmiOycW0fof"
   },
   "outputs": [],
   "source": [
    "X= cv.fit_transform(corpus)\n",
    "y=train['label']"
   ]
  },
  {
   "cell_type": "markdown",
   "metadata": {
    "colab_type": "text",
    "id": "JQfOs9tzDToj"
   },
   "source": [
    "# Train Test Split"
   ]
  },
  {
   "cell_type": "code",
   "execution_count": 15,
   "metadata": {
    "colab": {},
    "colab_type": "code",
    "executionInfo": {
     "elapsed": 1363,
     "status": "ok",
     "timestamp": 1593885846689,
     "user": {
      "displayName": "George Kokonya",
      "photoUrl": "https://lh3.googleusercontent.com/a-/AOh14GjaFvgZS4ocR0KSup2i-fk9qlCz2jUDaoCY5uuiLg=s64",
      "userId": "09686228575458206223"
     },
     "user_tz": -180
    },
    "id": "aIWM9ctH0hyl"
   },
   "outputs": [],
   "source": [
    "from sklearn.model_selection import train_test_split\n",
    "X_train, X_test, y_train, y_test = train_test_split(X, y, test_size=0.25,random_state =101)"
   ]
  },
  {
   "cell_type": "markdown",
   "metadata": {
    "colab_type": "text",
    "id": "gSwFVfWrBEt_"
   },
   "source": [
    "# Building model using Naive bayes classifier"
   ]
  },
  {
   "cell_type": "code",
   "execution_count": 19,
   "metadata": {
    "colab": {
     "base_uri": "https://localhost:8080/",
     "height": 208
    },
    "colab_type": "code",
    "executionInfo": {
     "elapsed": 887,
     "status": "ok",
     "timestamp": 1593885846699,
     "user": {
      "displayName": "George Kokonya",
      "photoUrl": "https://lh3.googleusercontent.com/a-/AOh14GjaFvgZS4ocR0KSup2i-fk9qlCz2jUDaoCY5uuiLg=s64",
      "userId": "09686228575458206223"
     },
     "user_tz": -180
    },
    "id": "Muv0YREV3u_T",
    "outputId": "cb261047-0459-45aa-9cfb-45d19e479c68"
   },
   "outputs": [],
   "source": [
    "#import naives_bayes\n",
    "from sklearn.naive_bayes import MultinomialNB\n",
    "\n",
    "#Instantiate Naives_bayes \n",
    "mnb=MultinomialNB()\n",
    "\n",
    "#Train model\n",
    "mnb.fit(X_train,y_train)\n",
    "\n",
    "#Make prediction \n",
    "y_pred_mnb=mnb.predict(X_test)\n",
    "\n",
    "y_pred_proba_mnb=mnb.predict_proba(X_test)"
   ]
  },
  {
   "cell_type": "markdown",
   "metadata": {
    "colab_type": "text",
    "id": "x7qJJE05BzA6"
   },
   "source": [
    "# Model Evaluation"
   ]
  },
  {
   "cell_type": "code",
   "execution_count": 20,
   "metadata": {
    "colab": {
     "base_uri": "https://localhost:8080/",
     "height": 208
    },
    "colab_type": "code",
    "executionInfo": {
     "elapsed": 1075,
     "status": "ok",
     "timestamp": 1593886400085,
     "user": {
      "displayName": "George Kokonya",
      "photoUrl": "https://lh3.googleusercontent.com/a-/AOh14GjaFvgZS4ocR0KSup2i-fk9qlCz2jUDaoCY5uuiLg=s64",
      "userId": "09686228575458206223"
     },
     "user_tz": -180
    },
    "id": "PizJG_uoB80Q",
    "outputId": "4792afbc-f33f-45e0-c4fe-a17c321805a5"
   },
   "outputs": [
    {
     "name": "stdout",
     "output_type": "stream",
     "text": [
      "              precision    recall  f1-score   support\n",
      "\n",
      "           0       0.85      0.94      0.90        87\n",
      "           1       0.85      0.87      0.86        39\n",
      "           2       0.80      0.29      0.42        14\n",
      "           3       0.85      0.79      0.81        14\n",
      "\n",
      "    accuracy                           0.85       154\n",
      "   macro avg       0.84      0.72      0.75       154\n",
      "weighted avg       0.85      0.85      0.84       154\n",
      "\n"
     ]
    }
   ],
   "source": [
    "#using classification report\n",
    "from sklearn.metrics import classification_report\n",
    "print(classification_report(y_test,y_pred_mnb))"
   ]
  },
  {
   "cell_type": "code",
   "execution_count": 21,
   "metadata": {
    "colab": {
     "base_uri": "https://localhost:8080/",
     "height": 34
    },
    "colab_type": "code",
    "executionInfo": {
     "elapsed": 994,
     "status": "ok",
     "timestamp": 1593885852297,
     "user": {
      "displayName": "George Kokonya",
      "photoUrl": "https://lh3.googleusercontent.com/a-/AOh14GjaFvgZS4ocR0KSup2i-fk9qlCz2jUDaoCY5uuiLg=s64",
      "userId": "09686228575458206223"
     },
     "user_tz": -180
    },
    "id": "hQ3xJz-kobP5",
    "outputId": "71e6cc98-2644-4d6d-e763-6396f545623a"
   },
   "outputs": [
    {
     "name": "stdout",
     "output_type": "stream",
     "text": [
      "0.47086524146746106\n"
     ]
    }
   ],
   "source": [
    "#using log_loss\n",
    "from sklearn.metrics import log_loss\n",
    "print(log_loss(y_test,y_pred_proba_mnb))"
   ]
  },
  {
   "cell_type": "code",
   "execution_count": null,
   "metadata": {
    "colab": {},
    "colab_type": "code",
    "id": "dZp25cX_0dgE"
   },
   "outputs": [],
   "source": []
  }
 ],
 "metadata": {
  "colab": {
   "authorship_tag": "ABX9TyMQ3txi7I27t68CL3+Qrdyd",
   "collapsed_sections": [],
   "mount_file_id": "1A0l1jeD9RPq4_FPFFwL--SWFC-OwZVG_",
   "name": "Test.ipynb",
   "provenance": []
  },
  "kernelspec": {
   "display_name": "Python 3",
   "language": "python",
   "name": "python3"
  }
 },
 "nbformat": 4,
 "nbformat_minor": 1
}
